{
 "cells": [
  {
   "cell_type": "code",
   "execution_count": 1,
   "metadata": {},
   "outputs": [
    {
     "ename": "ImportError",
     "evalue": "No module named 'numpy'",
     "output_type": "error",
     "traceback": [
      "\u001b[0;31m---------------------------------------------------------------------------\u001b[0m",
      "\u001b[0;31mImportError\u001b[0m                               Traceback (most recent call last)",
      "\u001b[0;32m<ipython-input-1-96be1f74e369>\u001b[0m in \u001b[0;36m<module>\u001b[0;34m()\u001b[0m\n\u001b[0;32m----> 1\u001b[0;31m \u001b[0;32mimport\u001b[0m \u001b[0mnumpy\u001b[0m \u001b[0;32mas\u001b[0m \u001b[0mnp\u001b[0m\u001b[0;34m\u001b[0m\u001b[0m\n\u001b[0m\u001b[1;32m      2\u001b[0m \u001b[0;32mfrom\u001b[0m \u001b[0mnumpy\u001b[0m\u001b[0;34m.\u001b[0m\u001b[0mlinalg\u001b[0m \u001b[0;32mimport\u001b[0m \u001b[0mnorm\u001b[0m\u001b[0;34m\u001b[0m\u001b[0m\n\u001b[1;32m      3\u001b[0m \u001b[0;32mfrom\u001b[0m \u001b[0mmath\u001b[0m \u001b[0;32mimport\u001b[0m \u001b[0msin\u001b[0m\u001b[0;34m,\u001b[0m \u001b[0mcos\u001b[0m\u001b[0;34m,\u001b[0m \u001b[0mpi\u001b[0m\u001b[0;34m,\u001b[0m \u001b[0masin\u001b[0m\u001b[0;34m,\u001b[0m \u001b[0matan2\u001b[0m\u001b[0;34m,\u001b[0m \u001b[0mdegrees\u001b[0m\u001b[0;34m,\u001b[0m \u001b[0mradians\u001b[0m\u001b[0;34m\u001b[0m\u001b[0m\n\u001b[1;32m      4\u001b[0m \u001b[0;32mfrom\u001b[0m \u001b[0mtabulate\u001b[0m \u001b[0;32mimport\u001b[0m \u001b[0mtabulate\u001b[0m\u001b[0;34m\u001b[0m\u001b[0m\n\u001b[1;32m      5\u001b[0m \u001b[0;34m\u001b[0m\u001b[0m\n",
      "\u001b[0;31mImportError\u001b[0m: No module named 'numpy'"
     ]
    }
   ],
   "source": [
    "import numpy as np\n",
    "from numpy.linalg import norm\n",
    "from math import sin, cos, pi, asin, atan2, degrees, radians\n",
    "from tabulate import tabulate\n",
    "\n",
    "np.set_printoptions(suppress=True,precision=11)"
   ]
  },
  {
   "cell_type": "markdown",
   "metadata": {},
   "source": [
    "# 1. Rotations"
   ]
  },
  {
   "cell_type": "code",
   "execution_count": 19,
   "metadata": {
    "collapsed": true
   },
   "outputs": [],
   "source": [
    "def wedge(v):\n",
    "    return np.matrix([[0, -v[2], v[1]],\n",
    "                     [v[2], 0,  -v[0]],\n",
    "                     [-v[1], v[0], 0]]);\n",
    "\n",
    "def get_rotation_rodriguez(v, theta=None):\n",
    "    if theta is None:\n",
    "        theta = norm(v); \n",
    "        n = v/theta; \n",
    "    else: \n",
    "        n = v; \n",
    "        \n",
    "    cM = wedge(n); \n",
    "    return np.identity(3) + sin(theta)*cM + (1-cos(theta))*cM*cM\n"
   ]
  },
  {
   "cell_type": "markdown",
   "metadata": {},
   "source": [
    "## a"
   ]
  },
  {
   "cell_type": "code",
   "execution_count": 14,
   "metadata": {
    "collapsed": true
   },
   "outputs": [],
   "source": [
    "def rotx(phi):\n",
    "    v = phi*np.array([1, 0, 0]); \n",
    "    return get_rotation_rodriguez(v)\n",
    "\n",
    "def roty(theta):\n",
    "    v = theta*np.array([0, 1, 0]); \n",
    "    return get_rotation_rodriguez(v)\n",
    "\n",
    "def rotz(psi):\n",
    "    v = psi*np.array([0, 0, 1]); \n",
    "    return get_rotation_rodriguez(v) \n",
    "\n",
    "def angles2rot(phi, theta, psi): \n",
    "    return rotz(psi)*roty(theta)*rotx(phi)"
   ]
  },
  {
   "cell_type": "markdown",
   "metadata": {},
   "source": [
    "## b"
   ]
  },
  {
   "cell_type": "code",
   "execution_count": 16,
   "metadata": {},
   "outputs": [
    {
     "name": "stdout",
     "output_type": "stream",
     "text": [
      "R= \n",
      "[[ 0.72889912554  0.06766479742  0.68126906578]\n",
      " [ 0.35101931853  0.81741496597 -0.45674742629]\n",
      " [-0.58778525229  0.57206140282  0.57206140282]]\n"
     ]
    }
   ],
   "source": [
    "print('R= \\n' + str(angles2rot(phi=pi/4, theta=pi/5, psi=pi/7)))"
   ]
  },
  {
   "cell_type": "markdown",
   "metadata": {},
   "source": [
    "## c"
   ]
  },
  {
   "cell_type": "code",
   "execution_count": 17,
   "metadata": {
    "collapsed": true
   },
   "outputs": [],
   "source": [
    "def rot2angles(M):\n",
    "    sin_theta = -M[2, 0];     \n",
    "    theta = asin(sin_theta);     \n",
    "    \n",
    "    if sin_theta==1:\n",
    "        psi = 0; # arbitrary\n",
    "        phi = atan2(M[0,1],M[0,2]);     \n",
    "    elif sin_theta==-1:\n",
    "        psi = 0; # arbitrary\n",
    "        phi = atan2(-M[0,1],-M[0,2]);        \n",
    "    else:\n",
    "        # another valid solution: pi-theta.             \n",
    "        cos_theta = cos(theta); \n",
    "        phi = atan2(M[2,1]/cos_theta, M[2, 2]/cos_theta);\n",
    "        psi = atan2(M[1,0]/cos_theta, M[0, 0]/cos_theta);\n",
    "    \n",
    "    return phi, theta, psi"
   ]
  },
  {
   "cell_type": "markdown",
   "metadata": {},
   "source": [
    "## d"
   ]
  },
  {
   "cell_type": "code",
   "execution_count": 22,
   "metadata": {},
   "outputs": [
    {
     "name": "stdout",
     "output_type": "stream",
     "text": [
      "phi=9.999999994217536 theta=19.999999980143038 psi=29.99999998990158\n"
     ]
    }
   ],
   "source": [
    "phi, theta, psi = (degrees(x) for x in rot2angles(\n",
    "    np.mat(' 0.813797681 -0.440969611 0.378522306;  \\\n",
    "                           0.46984631   0.882564119 0.0180283112; \\\n",
    "                          -0.342020143  0.163175911 0.925416578')))\n",
    "print('phi=' + str(phi), 'theta=' + str(theta), 'psi=' + str(psi))"
   ]
  },
  {
   "cell_type": "markdown",
   "metadata": {},
   "source": [
    "# 2. 3D Rigid Transformation"
   ]
  },
  {
   "cell_type": "code",
   "execution_count": 23,
   "metadata": {},
   "outputs": [
    {
     "name": "stdout",
     "output_type": "stream",
     "text": [
      "[[-555.20335297]\n",
      " [ 351.31482926]\n",
      " [ 450.        ]]\n"
     ]
    }
   ],
   "source": [
    "trans = np.mat([-451.2459, 257.0322, 400])\n",
    "rot = np.mat('0.5363 -0.8440 0; 0.8440 0.5363 0; 0 0 1'); \n",
    "\n",
    "pt = np.mat([450, 400, 50])\n",
    "\n",
    "Tgl = rot.dot((pt + trans).T)\n",
    "print(Tgl)"
   ]
  },
  {
   "cell_type": "markdown",
   "metadata": {},
   "source": [
    "# 3. Pose Composition\n",
    "Commanded: \n",
    "\\begin{gather}\n",
    "x^c_{k+1} = x_k + \\begin{pmatrix} 0 \\\\ 1 \\end{pmatrix} \\\\\n",
    "R^c_{k+1} = R^c_k\n",
    "\\end{gather}\n",
    "\n",
    "Actual: \n",
    "\\begin{gather}\n",
    "x^a_{k+1} = x_k + \\begin{pmatrix} 0 \\\\ 1.1 \\end{pmatrix} \\\\\n",
    "R^a_{k+1} = R(1) \\cdot R^c_k\n",
    "\\end{gather}"
   ]
  },
  {
   "cell_type": "code",
   "execution_count": 24,
   "metadata": {},
   "outputs": [
    {
     "name": "stdout",
     "output_type": "stream",
     "text": [
      "0\n",
      "1\n",
      "2\n",
      "3\n",
      "4\n",
      "5\n",
      "6\n",
      "7\n",
      "8\n",
      "9\n"
     ]
    }
   ],
   "source": [
    "Tc = np.concatenate(np.identity(2), np.mat([[0],[1]])); \n",
    "\n",
    "dtheta = pi/180;\n",
    "Ta = np.concatenate(np.identity(2), np.mat([[0],[1]])); \n",
    "\n",
    "for ii in range(10): \n",
    "    "
   ]
  }
 ],
 "metadata": {
  "kernelspec": {
   "display_name": "Python 3",
   "language": "python",
   "name": "python3"
  },
  "language_info": {
   "codemirror_mode": {
    "name": "ipython",
    "version": 3
   },
   "file_extension": ".py",
   "mimetype": "text/x-python",
   "name": "python",
   "nbconvert_exporter": "python",
   "pygments_lexer": "ipython3",
   "version": "3.5.2"
  }
 },
 "nbformat": 4,
 "nbformat_minor": 2
}
