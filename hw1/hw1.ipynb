{
 "cells": [
  {
   "cell_type": "code",
   "execution_count": 108,
   "metadata": {
    "collapsed": true
   },
   "outputs": [],
   "source": [
    "import numpy as np\n",
    "from numpy.linalg import norm\n",
    "from math import sin, cos, pi, asin, atan2, degrees, radians, acos\n",
    "from tabulate import tabulate\n",
    "\n",
    "np.set_printoptions(suppress=True,precision=11)"
   ]
  },
  {
   "cell_type": "markdown",
   "metadata": {},
   "source": [
    "# 1. Rotations"
   ]
  },
  {
   "cell_type": "code",
   "execution_count": 4,
   "metadata": {
    "collapsed": true
   },
   "outputs": [],
   "source": [
    "def wedge(v):\n",
    "    return np.matrix([[0, -v[2], v[1]],\n",
    "                     [v[2], 0,  -v[0]],\n",
    "                     [-v[1], v[0], 0]]);\n",
    "\n",
    "def get_rotation_rodriguez(v, theta=None):\n",
    "    if theta is None:\n",
    "        theta = norm(v); \n",
    "        n = v/theta; \n",
    "    else: \n",
    "        n = v; \n",
    "        \n",
    "    cM = wedge(n); \n",
    "    return np.identity(3) + sin(theta)*cM + (1-cos(theta))*cM*cM\n"
   ]
  },
  {
   "cell_type": "markdown",
   "metadata": {},
   "source": [
    "## a"
   ]
  },
  {
   "cell_type": "code",
   "execution_count": 14,
   "metadata": {
    "collapsed": true
   },
   "outputs": [],
   "source": [
    "def rotx(phi):\n",
    "    v = phi*np.array([1, 0, 0]); \n",
    "    return get_rotation_rodriguez(v)\n",
    "\n",
    "def roty(theta):\n",
    "    v = theta*np.array([0, 1, 0]); \n",
    "    return get_rotation_rodriguez(v)\n",
    "\n",
    "def rotz(psi):\n",
    "    v = psi*np.array([0, 0, 1]); \n",
    "    return get_rotation_rodriguez(v) \n",
    "\n",
    "def angles2rot(phi, theta, psi): \n",
    "    return rotz(psi)*roty(theta)*rotx(phi)"
   ]
  },
  {
   "cell_type": "markdown",
   "metadata": {},
   "source": [
    "## b"
   ]
  },
  {
   "cell_type": "code",
   "execution_count": 16,
   "metadata": {},
   "outputs": [
    {
     "name": "stdout",
     "output_type": "stream",
     "text": [
      "R= \n",
      "[[ 0.72889912554  0.06766479742  0.68126906578]\n",
      " [ 0.35101931853  0.81741496597 -0.45674742629]\n",
      " [-0.58778525229  0.57206140282  0.57206140282]]\n"
     ]
    }
   ],
   "source": [
    "print('R= \\n' + str(angles2rot(phi=pi/4, theta=pi/5, psi=pi/7)))"
   ]
  },
  {
   "cell_type": "markdown",
   "metadata": {},
   "source": [
    "## c"
   ]
  },
  {
   "cell_type": "code",
   "execution_count": 17,
   "metadata": {
    "collapsed": true
   },
   "outputs": [],
   "source": [
    "def rot2angles(M):\n",
    "    sin_theta = -M[2, 0];     \n",
    "    theta = asin(sin_theta);     \n",
    "    \n",
    "    if sin_theta==1:\n",
    "        psi = 0; # arbitrary\n",
    "        phi = atan2(M[0,1],M[0,2]);     \n",
    "    elif sin_theta==-1:\n",
    "        psi = 0; # arbitrary\n",
    "        phi = atan2(-M[0,1],-M[0,2]);        \n",
    "    else:\n",
    "        # another valid solution: pi-theta.             \n",
    "        cos_theta = cos(theta); \n",
    "        phi = atan2(M[2,1]/cos_theta, M[2, 2]/cos_theta);\n",
    "        psi = atan2(M[1,0]/cos_theta, M[0, 0]/cos_theta);\n",
    "    \n",
    "    return phi, theta, psi"
   ]
  },
  {
   "cell_type": "markdown",
   "metadata": {},
   "source": [
    "## d"
   ]
  },
  {
   "cell_type": "code",
   "execution_count": 22,
   "metadata": {},
   "outputs": [
    {
     "name": "stdout",
     "output_type": "stream",
     "text": [
      "phi=9.999999994217536 theta=19.999999980143038 psi=29.99999998990158\n"
     ]
    }
   ],
   "source": [
    "phi, theta, psi = (degrees(x) for x in rot2angles(\n",
    "    np.mat(' 0.813797681 -0.440969611 0.378522306;  \\\n",
    "                           0.46984631   0.882564119 0.0180283112; \\\n",
    "                          -0.342020143  0.163175911 0.925416578')))\n",
    "print('phi=' + str(phi), 'theta=' + str(theta), 'psi=' + str(psi))"
   ]
  },
  {
   "cell_type": "markdown",
   "metadata": {},
   "source": [
    "# 2. 3D Rigid Transformation"
   ]
  },
  {
   "cell_type": "code",
   "execution_count": 23,
   "metadata": {},
   "outputs": [
    {
     "name": "stdout",
     "output_type": "stream",
     "text": [
      "[[-555.20335297]\n",
      " [ 351.31482926]\n",
      " [ 450.        ]]\n"
     ]
    }
   ],
   "source": [
    "trans = np.mat([-451.2459, 257.0322, 400])\n",
    "rot = np.mat('0.5363 -0.8440 0; 0.8440 0.5363 0; 0 0 1'); \n",
    "\n",
    "pt = np.mat([450, 400, 50])\n",
    "\n",
    "Tgl = rot.dot((pt + trans).T)\n",
    "print(Tgl)"
   ]
  },
  {
   "cell_type": "markdown",
   "metadata": {},
   "source": [
    "# 3. Pose Composition\n",
    "Commanded: \n",
    "\\begin{gather}\n",
    "x^c_{k+1} = x_k + \\begin{pmatrix} 0 \\\\ 1 \\end{pmatrix} \\\\\n",
    "R^c_{k+1} = R^c_k\n",
    "\\end{gather}\n",
    "\n",
    "Actual: \n",
    "\\begin{gather}\n",
    "x^a_{k+1} = x_k + \\begin{pmatrix} 0 \\\\ 1.1 \\end{pmatrix} \\\\\n",
    "R^a_{k+1} = R(1) \\cdot R^c_k\n",
    "\\end{gather}"
   ]
  },
  {
   "cell_type": "code",
   "execution_count": 5,
   "metadata": {},
   "outputs": [
    {
     "data": {
      "text/plain": [
       "2"
      ]
     },
     "execution_count": 5,
     "metadata": {},
     "output_type": "execute_result"
    }
   ],
   "source": [
    "M = np.mat('1 2; 3 4')\n",
    "M[0,1]"
   ]
  },
  {
   "cell_type": "code",
   "execution_count": 122,
   "metadata": {},
   "outputs": [
    {
     "name": "stdout",
     "output_type": "stream",
     "text": [
      "Location difference: 0.793435624902 m\n",
      "Orientation difference: 9.999999999999902°\n"
     ]
    },
    {
     "data": {
      "image/png": "[encoded data removed]",
      "text/plain": [
       "<matplotlib.figure.Figure at 0x1fbc8814f60>"
      ]
     },
     "metadata": {},
     "output_type": "display_data"
    }
   ],
   "source": [
    "%matplotlib inline\n",
    "\n",
    "import matplotlib.pyplot as plt\n",
    "from copy import deepcopy \n",
    "\n",
    "def rotation2(theta): \n",
    "    return np.mat([[cos(theta),sin(theta)],\n",
    "                [-sin(theta),cos(theta)]]); \n",
    "\n",
    "def rot2angle(R):\n",
    "    return atan2(R[0, 1], R[1, 1]); \n",
    "\n",
    "Tc = np.concatenate((np.identity(2), np.mat([[1],[0]])), axis=1); \n",
    "\n",
    "dtheta = pi/180;\n",
    "Ta = np.concatenate((rotation2(-dtheta), np.mat([[1.01],[0]])), axis=1); \n",
    "\n",
    "# Initial pose\n",
    "origin = np.mat([[0,0]]).T;\n",
    "orientation = np.mat([[1, 0]]).T; \n",
    "Ti = np.concatenate((np.identity(2), np.mat([[0],[0]])), axis=1); \n",
    "\n",
    "# Lists hold nominal and actual pose history\n",
    "T1 = [{\"T\" : Ti, \"origin\" : origin, \"orientation\" : orientation}]; \n",
    "T2 = deepcopy(T1); \n",
    "for ii in range(10):\n",
    "    # commanded\n",
    "    Tk = Tc.dot(np.vstack((T1[-1]['T'], [0, 0, 1]))); \n",
    "    nominal_origin = Tk[:,-1]; \n",
    "    Rk = Tk[0:2,0:2]; \n",
    "    nominal_orientation = Rk.dot(orientation);    \n",
    "    T1.append({\"T\" : Tk, \"origin\" : nominal_origin, \"orientation\" : nominal_orientation})\n",
    "    \n",
    "    # actual\n",
    "    Tk = Ta.dot(np.vstack((T2[-1]['T'], [0, 0, 1]))); \n",
    "    actual_origin = Tk[:,-1]; \n",
    "    Rk = Tk[0:2,0:2]; \n",
    "    actual_orientation = Rk.dot(orientation);  \n",
    "    T2.append({\"T\" : Tk, \"origin\" : actual_origin, \"orientation\" : actual_orientation})\n",
    "    \n",
    "def disp_track(locations, orientations, color='b'):\n",
    "    x = [o[0].item(0) for o in locations]\n",
    "    y = [o[1].item(0) for o in locations]\n",
    "    u = [o[0].item(0) for o in orientations]\n",
    "    v = [o[1].item(0) for o in orientations]\n",
    "    plt.plot(x, y, '-.', color=color)\n",
    "    plt.quiver(x, y, u, v, color='k',zorder=10)\n",
    "    \n",
    "plt.figure()\n",
    "\n",
    "Pc = [P['origin'] for P in T1]\n",
    "Uc = [P['orientation'] for P in T1]\n",
    "disp_track(Pc, Uc)\n",
    "\n",
    "Pa = [P['origin'] for P in T2]\n",
    "Ua = [P['orientation'] for P in T2]\n",
    "disp_track(Pa, Ua, 'r')\n",
    "\n",
    "plt.grid(True)\n",
    "plt.axis('equal'); \n",
    "plt.legend(['commanded/nominal', 'actual']); \n",
    "plt.title('Nominal vs. actual robot poses'); \n",
    "\n",
    "print('Location difference: ' + str(norm(Pc[-1]-Pa[-1])) + ' m')\n",
    "print('Orientation difference: ' + str(degrees(acos(Ua[-1].T.dot(Uc[-1])))) + u'\\N{DEGREE SIGN}')"
   ]
  },
  {
   "cell_type": "code",
   "execution_count": null,
   "metadata": {
    "collapsed": true
   },
   "outputs": [],
   "source": []
  }
 ],
 "metadata": {
  "kernelspec": {
   "display_name": "Python 3",
   "language": "python",
   "name": "python3"
  },
  "language_info": {
   "codemirror_mode": {
    "name": "ipython",
    "version": 3
   },
   "file_extension": ".py",
   "mimetype": "text/x-python",
   "name": "python",
   "nbconvert_exporter": "python",
   "pygments_lexer": "ipython3",
   "version": "3.5.2"
  }
 },
 "nbformat": 4,
 "nbformat_minor": 2
}
